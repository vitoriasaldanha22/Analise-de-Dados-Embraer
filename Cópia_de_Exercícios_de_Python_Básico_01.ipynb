{
  "nbformat": 4,
  "nbformat_minor": 0,
  "metadata": {
    "colab": {
      "provenance": [],
      "include_colab_link": true
    },
    "kernelspec": {
      "name": "python3",
      "display_name": "Python 3"
    },
    "language_info": {
      "name": "python"
    }
  },
  "cells": [
    {
      "cell_type": "markdown",
      "metadata": {
        "id": "view-in-github",
        "colab_type": "text"
      },
      "source": [
        "<a href=\"https://colab.research.google.com/github/vitoriasaldanha22/Analise-de-Dados-Embraer/blob/main/C%C3%B3pia_de_Exerc%C3%ADcios_de_Python_B%C3%A1sico_01.ipynb\" target=\"_parent\"><img src=\"https://colab.research.google.com/assets/colab-badge.svg\" alt=\"Open In Colab\"/></a>"
      ]
    },
    {
      "cell_type": "markdown",
      "source": [
        "# 1 - Variáveis e Tipos de Dados"
      ],
      "metadata": {
        "id": "uxGISqtR2yNT"
      }
    },
    {
      "cell_type": "code",
      "execution_count": 9,
      "metadata": {
        "id": "tLS0FEGj2rS7",
        "colab": {
          "base_uri": "https://localhost:8080/"
        },
        "outputId": "e2d1c801-808c-41d4-df60-2ada66424869"
      },
      "outputs": [
        {
          "output_type": "stream",
          "name": "stdout",
          "text": [
            "Nome: Vitoria Tipo: <class 'str'>\n",
            "Idade: 25 Tipo: <class 'int'>\n",
            "Peso: 60.0 Tipo: <class 'float'>\n",
            "altura: 1.56 Tipo: <class 'float'>\n"
          ]
        }
      ],
      "source": [
        "'''\n",
        "1.1. Crie variáveis para armazenar o nome, idade, peso e altura de uma pessoa.\n",
        "Imprima os valores e os tipos de dados dessas variáveis.\n",
        "'''\n",
        "Nome = \"Vitoria\"\n",
        "Idade = 25\n",
        "Peso = 60.0\n",
        "altura = 1.56\n",
        "\n",
        "print(\"Nome:\",Nome,\"Tipo:\",type(Nome));\n",
        "print(\"Idade:\",Idade,\"Tipo:\",type(Idade));\n",
        "print(\"Peso:\",Peso,\"Tipo:\",type(Peso));\n",
        "print(\"altura:\",altura,\"Tipo:\",type(altura));\n"
      ]
    },
    {
      "cell_type": "code",
      "source": [
        "'''\n",
        "1.2. Atualize a variável de peso para um valor diferente e imprima o novo valor.\n",
        "'''\n",
        "Peso: 72.0\n",
        "print(f\"O novo peso é:{Peso}\");"
      ],
      "metadata": {
        "id": "VFVgrodF27TT",
        "colab": {
          "base_uri": "https://localhost:8080/"
        },
        "outputId": "e5ea7e35-add7-4736-8b44-1d9dd45c1600"
      },
      "execution_count": 19,
      "outputs": [
        {
          "output_type": "stream",
          "name": "stdout",
          "text": [
            "O novo peso é:60.0\n"
          ]
        }
      ]
    },
    {
      "cell_type": "markdown",
      "source": [
        "# 2 - Operadores Matemáticos"
      ],
      "metadata": {
        "id": "RRRbkSkr3Ajw"
      }
    },
    {
      "cell_type": "code",
      "source": [
        "'''\n",
        "2.1. Crie uma variável a com valor 10 e uma variável b com valor 3. Realize as\n",
        "seguintes operações e imprima os resultados:\n",
        "Soma\n",
        "Subtração\n",
        "Multiplicação\n",
        "Divisão\n",
        "Parte inteira da divisão\n",
        "Resto da divisão\n",
        "Exponenciação\n",
        "'''\n",
        "\n",
        "a = 10\n",
        "b = 3\n",
        "\n",
        "Soma = a+b;\n",
        "Subtracao = a-b\n",
        "Multiplicacao = a*b\n",
        "Divisao = a/b\n",
        "divisao_inteira = a//b\n",
        "resto_divisao = a%b\n",
        "exponencial= a**b\n",
        "\n",
        "print(f\"Soma: {Soma}\")\n",
        "print(f\"Subtração: {Subtracao}\")\n",
        "print(f\"Multiplicação: {Multiplicacao}\")\n",
        "print(f\"Divisão: {Divisao}\")\n",
        "print(f\"Divisão inteira: {divisao_inteira}\")\n",
        "print(f\"Resto da divisão: {resto_divisao}\")\n",
        "print(f\"exponencial: {exponencial}\")\n"
      ],
      "metadata": {
        "id": "hHAztIDU3AJP",
        "colab": {
          "base_uri": "https://localhost:8080/"
        },
        "outputId": "5639662c-7a67-4762-e48b-f66d25539e3a"
      },
      "execution_count": 31,
      "outputs": [
        {
          "output_type": "stream",
          "name": "stdout",
          "text": [
            "Soma: 13\n",
            "Subtração: 7\n",
            "Multiplicação: 30\n",
            "Divisão: 3.3333333333333335\n",
            "Divisão inteira: 3\n",
            "Resto da divisão: 1\n",
            "exponencial: 1000\n"
          ]
        }
      ]
    },
    {
      "cell_type": "markdown",
      "source": [
        "# 3 - Entrada de Dados pelo Usuário\n"
      ],
      "metadata": {
        "id": "jWJt5Ep23OFd"
      }
    },
    {
      "cell_type": "code",
      "source": [
        "'''\n",
        "3.1. Peça ao usuário para digitar seu nome e armazene em uma variável. Imprima\n",
        "uma mensagem de boas-vindas usando o nome fornecido.\n",
        "'''\n",
        "Nome = input(\"Digite seu nome:\")\n",
        "print(f\"Olá {Nome}, seja bem vindo(a)!\")"
      ],
      "metadata": {
        "id": "IiD6jUJh3eiD",
        "colab": {
          "base_uri": "https://localhost:8080/"
        },
        "outputId": "fe5edd28-ad73-479c-c72b-fcd9318b926a"
      },
      "execution_count": 32,
      "outputs": [
        {
          "output_type": "stream",
          "name": "stdout",
          "text": [
            "Digite seu nome:Vitoria\n",
            "Olá Vitoria, seja bem vindo!\n"
          ]
        }
      ]
    },
    {
      "cell_type": "code",
      "source": [
        "'''\n",
        "3.2. Peça ao usuário para digitar sua idade, peso e altura. Calcule o IMC e\n",
        "imprima o resultado arredondado para três casas decimais.\n",
        "'''\n",
        "\n",
        "Idade = input(\"Digite sua idade: \")\n",
        "Peso = input(\"Digite seu Peso: \")\n",
        "Altura = input(\"Digite sua altura: \")\n",
        "\n",
        "IMC = float(Peso) / (float(Altura) * float(Altura))\n",
        "print(f\"Seu IMC é: {IMC:.2f}\")"
      ],
      "metadata": {
        "id": "Y4kz72aR3k8d",
        "colab": {
          "base_uri": "https://localhost:8080/"
        },
        "outputId": "7adad29e-f5df-455f-95d8-54ff04c3b3d7"
      },
      "execution_count": 35,
      "outputs": [
        {
          "output_type": "stream",
          "name": "stdout",
          "text": [
            "Digite sua idade: 20\n",
            "Digite seu Peso: 60\n",
            "Digite sua altura: 1.5\n",
            "Seu IMC é: 26.67\n"
          ]
        }
      ]
    },
    {
      "cell_type": "code",
      "source": [
        "# Método Alternativo\n",
        "'''\n",
        "3.2. Peça ao usuário para digitar sua idade, peso e altura. Calcule o IMC e\n",
        "imprima o resultado arredondado para três casas decimais.\n",
        "'''\n",
        "Idade = input(\"Digite sua idade: \")\n",
        "Peso = input(\"Digite seu Peso: \")\n",
        "Altura = input(\"Digite sua altura: \")\n",
        "\n",
        "IMC = float(Peso) / (float(Altura) * float(Altura))\n",
        "print(f\"Seu IMC é: {IMC:.3f}\")"
      ],
      "metadata": {
        "id": "PrhJpkQVXU-V",
        "colab": {
          "base_uri": "https://localhost:8080/"
        },
        "outputId": "4d432623-3c7f-4ce3-92f2-75b187577659"
      },
      "execution_count": 36,
      "outputs": [
        {
          "output_type": "stream",
          "name": "stdout",
          "text": [
            "Digite sua idade: 21\n",
            "Digite seu Peso: 57\n",
            "Digite sua altura: 1.56\n",
            "Seu IMC é: 23.422\n"
          ]
        }
      ]
    },
    {
      "cell_type": "markdown",
      "source": [
        "# 4 - Função de Impressão"
      ],
      "metadata": {
        "id": "zqRV3Plv3pjL"
      }
    },
    {
      "cell_type": "code",
      "source": [
        "'''\n",
        "4.1. Peça ao usuário para digitar um número e imprima o número digitado.\n",
        "'''\n",
        "numero = input(\"Digite um número:\")\n",
        "print(f\"O número digitado é {numero}\")"
      ],
      "metadata": {
        "id": "N5AbRV3i3vYV",
        "colab": {
          "base_uri": "https://localhost:8080/"
        },
        "outputId": "c84dd8e4-85db-4b9d-b7db-9953f1116f84"
      },
      "execution_count": 37,
      "outputs": [
        {
          "output_type": "stream",
          "name": "stdout",
          "text": [
            "Digite um número:20\n",
            "O número digitado é 20\n"
          ]
        }
      ]
    },
    {
      "cell_type": "code",
      "source": [
        "'''\n",
        "4.2. Peça ao usuário para digitar dois números e imprima a soma deles.\n",
        "'''\n",
        "Num1 = input(\"Digite o primeiro número:\")\n",
        "Num2 = input(\"Digite o segundo numero:\")\n",
        "soma = float(Num1)+float(Num2)\n",
        "print(f\"A soma é: {soma}\")"
      ],
      "metadata": {
        "id": "qM2ocOFl3vpB",
        "colab": {
          "base_uri": "https://localhost:8080/"
        },
        "outputId": "68463f92-4b4f-498d-91b3-803d0ca0edbf"
      },
      "execution_count": 38,
      "outputs": [
        {
          "output_type": "stream",
          "name": "stdout",
          "text": [
            "Digite o primeiro número:2\n",
            "Digite o segundo numero:2\n",
            "A soma é: 4.0\n"
          ]
        }
      ]
    },
    {
      "cell_type": "code",
      "source": [
        "# Método alternativo\n",
        "'''\n",
        "4.2. Peça ao usuário para digitar dois números e imprima a soma deles.\n",
        "'''\n"
      ],
      "metadata": {
        "id": "YtaigxxGasPs"
      },
      "execution_count": null,
      "outputs": []
    },
    {
      "cell_type": "markdown",
      "source": [
        "# 5 - Métodos de Strings"
      ],
      "metadata": {
        "id": "RWwlLaOu35jq"
      }
    },
    {
      "cell_type": "code",
      "source": [
        "'''\n",
        "5.1. Peça ao usuário para digitar um e-mail e verifique se o e-mail contém o\n",
        "caractere '@'. Imprima uma mensagem indicando se é um e-mail válido ou não.\n",
        "'''\n",
        "email = input(\"Digite um e-mail: \")\n",
        "\n",
        "if \"@\" in email:\n",
        "    print(\"E-mail válido.\")\n",
        "else:\n",
        "    print(\"E-mail inválido.\")"
      ],
      "metadata": {
        "id": "PnAPaeXY3-dA"
      },
      "execution_count": null,
      "outputs": []
    },
    {
      "cell_type": "code",
      "source": [
        "'''\n",
        "5.2. Peça ao usuário para digitar uma frase e:\n",
        "Converta a frase para maiúsculas.\n",
        "Converta a frase para minúsculas.\n",
        "Converta a primeira letra de cada palavra para maiúscula.\n",
        "Verifique se a frase começa com uma determinada palavra (ex.: 'Olá').\n",
        "'''\n",
        "frase = input(\"Digite uma frase: \")\n",
        "\n",
        "# Converter para maiúsculas\n",
        "frase_maiuscula = frase.upper()\n",
        "print(\"Frase em maiúsculas:\", frase_maiuscula)\n",
        "\n",
        "# Converter para minúsculas\n",
        "frase_minuscula = frase.lower()\n",
        "print(\"Frase em minúsculas:\", frase_minuscula)\n",
        "\n",
        "# Converter primeira letra de cada palavra para maiúscula\n",
        "frase_capitalizada = frase.title()\n",
        "print(\"Frase capitalizada:\", frase_capitalizada)\n",
        "\n",
        "# Verificar se a frase começa com 'Olá'\n",
        "if frase.startswith(\"Olá\"):\n",
        "    print(\"A frase começa com 'Olá'.\")\n",
        "else:\n",
        "    print(\"A frase não começa com 'Olá'.\")"
      ],
      "metadata": {
        "id": "nkwe0I9c3-w-"
      },
      "execution_count": null,
      "outputs": []
    },
    {
      "cell_type": "markdown",
      "source": [
        "# 6 - Listas"
      ],
      "metadata": {
        "id": "HZQlB-8K4snX"
      }
    },
    {
      "cell_type": "code",
      "source": [
        "'''\n",
        "6.1. Crie uma lista com os nomes de cinco amigos. Imprima o nome do terceiro\n",
        "amigo na lista.\n",
        "'''\n",
        "amigos = [\"Alice\", \"Bob\", \"Carlos\", \"Diana\", \"Eva\"]\n",
        "print(amigos[2])"
      ],
      "metadata": {
        "id": "3_3JLvXZ4sBG",
        "colab": {
          "base_uri": "https://localhost:8080/"
        },
        "outputId": "29e0ffae-f19d-4220-f1f7-1e5f8170e012"
      },
      "execution_count": 39,
      "outputs": [
        {
          "output_type": "stream",
          "name": "stdout",
          "text": [
            "Carlos\n"
          ]
        }
      ]
    },
    {
      "cell_type": "code",
      "source": [
        "'''\n",
        "6.2. Adicione um novo nome à lista de amigos e remova o primeiro nome.\n",
        "Imprima a lista atualizada.\n",
        "'''\n",
        "amigos = [\"Alice\", \"Bob\", \"Carlos\", \"Diana\", \"Eva\"]\n",
        "\n",
        "# Adicionar um novo nome\n",
        "amigos.append(\"Felipe\")\n",
        "\n",
        "# Remover o primeiro nome\n",
        "del amigos[0]\n",
        "\n",
        "# Imprimir a lista atualizada\n",
        "print(amigos)"
      ],
      "metadata": {
        "id": "ppcjLqMb4yDu"
      },
      "execution_count": null,
      "outputs": []
    },
    {
      "cell_type": "code",
      "source": [
        "'''\n",
        "6.3. Crie uma lista com as idades dos seus amigos e:\n",
        "Imprima a idade do amigo mais velho.\n",
        "Imprima a idade do amigo mais novo.\n",
        "Calcule e imprima a soma das idades.\n",
        "'''\n",
        "idades_amigos = [25, 30, 22, 28, 35]\n",
        "\n",
        "# Imprimir a idade do amigo mais velho\n",
        "idade_mais_velho = max(idades_amigos)\n",
        "print(\"Idade do amigo mais velho:\", idade_mais_velho)\n",
        "\n",
        "# Imprimir a idade do amigo mais novo\n",
        "idade_mais_novo = min(idades_amigos)\n",
        "print(\"Idade do amigo mais novo:\", idade_mais_novo)\n",
        "\n",
        "# Calcular e imprimir a soma das idades\n",
        "soma_idades = sum(idades_amigos)\n",
        "print(\"Soma das idades:\", soma_idades)"
      ],
      "metadata": {
        "id": "Hoz7RcUW4zc4"
      },
      "execution_count": null,
      "outputs": []
    },
    {
      "cell_type": "markdown",
      "source": [
        "# 7 - Tuplas"
      ],
      "metadata": {
        "id": "9WTzsCNH4-tT"
      }
    },
    {
      "cell_type": "code",
      "source": [
        "'''\n",
        "7.1 Crie uma tupla com as informações de um cliente (nome, idade, peso, altura).\n",
        "Imprima todas as informações.\n",
        "'''\n",
        "cliente = (\"João da Silva\", 30, 75.5, 1.78)\n",
        "\n",
        "\n",
        "print(\"Nome:\", cliente[0])\n",
        "print(\"Idade:\", cliente[1])\n",
        "print(\"Peso:\", cliente[2])\n",
        "print(\"Altura:\", cliente[3])\n",
        "\n",
        "\n",
        "nome, idade, peso, altura = cliente\n",
        "print(f\"Nome: {nome}, Idade: {idade}, Peso: {peso}, Altura: {altura}\")"
      ],
      "metadata": {
        "id": "XpWW7G-p5BOJ",
        "colab": {
          "base_uri": "https://localhost:8080/"
        },
        "outputId": "e2493473-8828-48ea-b504-18757cd65f21"
      },
      "execution_count": 40,
      "outputs": [
        {
          "output_type": "stream",
          "name": "stdout",
          "text": [
            "Nome: João da Silva\n",
            "Idade: 30\n",
            "Peso: 75.5\n",
            "Altura: 1.78\n",
            "Nome: João da Silva, Idade: 30, Peso: 75.5, Altura: 1.78\n"
          ]
        }
      ]
    },
    {
      "cell_type": "code",
      "source": [
        "'''\n",
        "7.2. Crie uma nova tupla concatenando a tupla do exercício anterior com o e-mail\n",
        "do cliente. Imprima a nova tupla.\n",
        "'''\n",
        "cliente = (\"João da Silva\", 30, 75.5, 1.78)\n",
        "email_cliente = \"joao.silva@email.com\"\n",
        "\n",
        "# Concatenar a tupla com o e-mail\n",
        "nova_tupla = cliente + (email_cliente,)\n",
        "\n",
        "# Imprimir a nova tupla\n",
        "print(nova_tupla)"
      ],
      "metadata": {
        "id": "tIzWFwzc5GQ8"
      },
      "execution_count": null,
      "outputs": []
    },
    {
      "cell_type": "markdown",
      "source": [
        "# 8 - Dicionários"
      ],
      "metadata": {
        "id": "-zg06dPu5ZJC"
      }
    },
    {
      "cell_type": "code",
      "source": [
        "'''\n",
        "8.1. Crie um dicionário com informações de um cliente\n",
        "(nome, idade, peso, altura). Imprima o valor associado à chave 'nome'.\n",
        "'''\n",
        "cliente = {\n",
        "    \"nome\": \"João da Silva\",\n",
        "    \"idade\": 30,\n",
        "    \"peso\": 75.5,\n",
        "    \"altura\": 1.78\n",
        "}\n",
        "\n",
        "# Imprimir o valor associado à chave 'nome'\n",
        "print(cliente[\"nome\"])"
      ],
      "metadata": {
        "id": "E_wd3pdX5clA"
      },
      "execution_count": null,
      "outputs": []
    },
    {
      "cell_type": "code",
      "source": [
        "'''\n",
        "8.2. Adicione uma nova chave 'email' ao dicionário do exercício anterior e\n",
        "imprima o dicionário atualizado.\n",
        "'''\n",
        "cliente = {\n",
        "    \"nome\": \"João da Silva\",\n",
        "    \"idade\": 30,\n",
        "    \"peso\": 75.5,\n",
        "    \"altura\": 1.78\n",
        "}\n",
        "\n",
        "# Adicionar a chave 'email' ao dicionário\n",
        "cliente[\"email\"] = \"joao.silva@email.com\"\n",
        "\n",
        "# Imprimir o dicionário atualizado\n",
        "print(cliente)"
      ],
      "metadata": {
        "id": "kM-tUW7o5eK7"
      },
      "execution_count": null,
      "outputs": []
    },
    {
      "cell_type": "code",
      "source": [
        "'''\n",
        "8.3. Remova a chave 'peso' do dicionário e verifique se a chave 'endereço' está\n",
        "no dicionário. Imprima os resultados.\n",
        "'''\n",
        "cliente = {\n",
        "    \"nome\": \"João da Silva\",\n",
        "    \"idade\": 30,\n",
        "    \"peso\": 75.5,\n",
        "    \"altura\": 1.78\n",
        "}\n",
        "\n",
        "# Remover a chave 'peso'\n",
        "if \"peso\" in cliente:\n",
        "    del cliente[\"peso\"]\n",
        "\n",
        "# Verificar se a chave 'endereço' está no dicionário\n",
        "if \"endereço\" in cliente:\n",
        "    print(\"A chave 'endereço' está no dicionário.\")\n",
        "else:\n",
        "    print(\"A chave 'endereço' não está no dicionário.\")\n",
        "\n",
        "# Imprimir o dicionário atualizado\n",
        "print(cliente)"
      ],
      "metadata": {
        "id": "xFhFuFOV5ffs"
      },
      "execution_count": null,
      "outputs": []
    },
    {
      "cell_type": "markdown",
      "source": [
        "# 9 - Controle de Fluxo"
      ],
      "metadata": {
        "id": "zDOsohbe5sjQ"
      }
    },
    {
      "cell_type": "code",
      "source": [
        "# Condicionais\n",
        "'''\n",
        "9.1. Peça ao usuário para digitar sua idade e verifique se ele é menor de idade,\n",
        " adulto ou idoso. Imprima uma mensagem correspondente.\n",
        "'''\n",
        "idade = int(input(\"Digite sua idade: \"))\n",
        "\n",
        "if idade < 18:\n",
        "    print(\"Menor de idade.\")\n",
        "elif idade < 65:\n",
        "    print(\"Adulto.\")\n",
        "else:\n",
        "    print(\"Idoso.\")\n"
      ],
      "metadata": {
        "id": "efFgv5Xx5wFC"
      },
      "execution_count": null,
      "outputs": []
    },
    {
      "cell_type": "code",
      "source": [
        "# Condicionais\n",
        "'''\n",
        "9.2. Peça ao usuário para digitar uma nota (0 a 100) e imprima se ele foi\n",
        "aprovado (nota >= 60) ou reprovado.\n",
        "'''\n",
        "nota = int(input(\"Digite a nota (0 a 100): \"))\n",
        "\n",
        "if nota >= 60:\n",
        "    print(\"Aprovado.\")\n",
        "else:\n",
        "    print(\"Reprovado.\")\n"
      ],
      "metadata": {
        "id": "pse5b4NO52OP"
      },
      "execution_count": null,
      "outputs": []
    },
    {
      "cell_type": "code",
      "source": [
        "# Loop For\n",
        "'''\n",
        "9.3. Crie uma lista com os nomes de cinco cidades. Use um loop for para imprimir\n",
        "cada nome de cidade.\n",
        "'''\n",
        "cidades = [\"São Paulo\", \"Rio de Janeiro\", \"Belo Horizonte\", \"Salvador\", \"Porto Alegre\"]\n",
        "\n",
        "for cidade in cidades:\n",
        "    print(cidade)"
      ],
      "metadata": {
        "id": "inMnGHFy525K"
      },
      "execution_count": null,
      "outputs": []
    },
    {
      "cell_type": "code",
      "source": [
        "# Loop For\n",
        "'''\n",
        "9.4. Crie uma lista com os números de 1 a 10. Use um loop for para imprimir o\n",
        "quadrado de cada número.\n",
        "'''\n",
        "numeros = list(range(1, 11))\n",
        "\n",
        "\n",
        "for numero in numeros:\n",
        "    quadrado = numero ** 2\n",
        "    print(f\"O quadrado de {numero} é {quadrado}\")"
      ],
      "metadata": {
        "id": "GitTfGfM539Y"
      },
      "execution_count": null,
      "outputs": []
    },
    {
      "cell_type": "markdown",
      "source": [
        "# 10 - Estudo de caso 01"
      ],
      "metadata": {
        "id": "_vJUEjo_6mWX"
      }
    },
    {
      "cell_type": "code",
      "source": [
        "'''\n",
        "Contexto:\n",
        "Uma empresa precisa registrar informações sobre seus clientes e calcular o IMC\n",
        "(Índice de Massa Corporal) de cada um deles. As informações devem ser\n",
        "armazenadas em um dicionário e exibidas ao final.\n",
        "'''\n",
        "\n",
        "\n",
        "'''\n",
        "Requisitos:\n",
        "Peça ao usuário para inserir os seguintes dados de um cliente:\n",
        "Nome\n",
        "Idade\n",
        "Peso (em kg)\n",
        "Altura (em metros)\n",
        "E-mail\n",
        "Armazene essas informações em um dicionário.\n",
        "Calcule o IMC do cliente (IMC = Peso / (Altura * Altura)) e adicione esse valor ao dicionário.\n",
        "Exiba todas as informações do cliente, incluindo o IMC arredondado para duas casas decimais.\n",
        "\n",
        "'''\n",
        "\n",
        "nome = input(\"Digite o nome do cliente: \")\n",
        "idade = int(input(\"Digite a idade do cliente: \"))\n",
        "peso = float(input(\"Digite o peso do cliente (em kg): \"))\n",
        "altura = float(input(\"Digite a altura do cliente (em metros): \"))\n",
        "email = input(\"Digite o e-mail do cliente: \")\n",
        "\n",
        "cliente = {\n",
        "    \"nome\": nome,\n",
        "    \"idade\": idade,\n",
        "    \"peso\": peso,\n",
        "    \"altura\": altura,\n",
        "    \"email\": email\n",
        "}\n",
        "\n",
        "imc = peso / (altura * altura)\n",
        "cliente[\"imc\"] = round(imc, 2)\n",
        "\n",
        "print(\"\\nInformações do cliente:\")\n",
        "for chave, valor in cliente.items():\n",
        "    print(f\"{chave}: {valor}\")\n"
      ],
      "metadata": {
        "id": "llIsNhsG6l_z"
      },
      "execution_count": null,
      "outputs": []
    },
    {
      "cell_type": "markdown",
      "source": [
        "# 11 - Estudo de Caso 02"
      ],
      "metadata": {
        "id": "_Yi8lRKQ68B3"
      }
    },
    {
      "cell_type": "code",
      "source": [
        "'''\n",
        "Contexto:\n",
        "Uma escola precisa analisar as notas de seus alunos e determinar se cada aluno\n",
        "foi aprovado ou reprovado. As notas serão armazenadas em uma lista e a análise\n",
        "deve ser realizada em um loop.\n",
        "'''\n",
        "\n",
        "'''\n",
        "Requisitos:\n",
        "Peça ao usuário para inserir o nome e a nota de cinco alunos.\n",
        "Armazene os nomes e as notas em listas separadas.\n",
        "Para cada aluno, verifique se a nota é maior ou igual a 60. Se sim, o aluno está\n",
        "aprovado; caso contrário, está reprovado.\n",
        "Exiba uma mensagem para cada aluno informando seu nome, nota e se foi aprovado\n",
        "ou reprovado.\n",
        "'''\n",
        "\n",
        "nomes = []\n",
        "notas = []\n",
        "\n",
        "for _ in range(5):\n",
        "    nome = input(\"Digite o nome do aluno: \")\n",
        "    nota = float(input(\"Digite a nota do aluno (0 a 100): \"))\n",
        "    nomes.append(nome)\n",
        "    notas.append(nota)\n",
        "\n",
        "for i in range(5):\n",
        "    if notas[i] >= 60:\n",
        "        resultado = \"aprovado\"\n",
        "    else:\n",
        "        resultado = \"reprovado\"\n",
        "    print(f\"Aluno: {nomes[i]}, Nota: {notas[i]}, Resultado: {resultado}\")\n"
      ],
      "metadata": {
        "id": "mrqCtmjg6_It"
      },
      "execution_count": null,
      "outputs": []
    },
    {
      "cell_type": "markdown",
      "source": [
        "# 12 - Estudo de caso 03"
      ],
      "metadata": {
        "id": "DoDAFqG37QWG"
      }
    },
    {
      "cell_type": "code",
      "source": [
        "'''\n",
        "Contexto\n",
        "Uma empresa deseja realizar uma pesquisa de opinião com cinco participantes\n",
        "sobre um novo produto. As respostas devem ser armazenadas e analisadas para\n",
        "verificar a satisfação dos clientes.\n",
        "'''\n",
        "\n",
        "'''\n",
        "Requisitos\n",
        "Peça ao usuário para inserir o nome e a opinião (satisfeito/insatisfeito) de\n",
        "cinco participantes.\n",
        "Armazene os nomes e as opiniões em um dicionário.\n",
        "Conte o número de participantes satisfeitos e insatisfeitos.\n",
        "Exiba a lista de participantes satisfeitos e insatisfeitos, bem como o número\n",
        "total de cada categoria.\n",
        "'''\n",
        "participantes = {}\n",
        "satisfeitos = []\n",
        "insatisfeitos = []\n",
        "\n",
        "for _ in range(5):\n",
        "    nome = input(\"Digite o nome do participante: \")\n",
        "    opiniao = input(\"Digite a opinião (satisfeito/insatisfeito): \").lower()\n",
        "    participantes[nome] = opiniao\n",
        "\n",
        "for nome, opiniao in participantes.items():\n",
        "    if opiniao == \"satisfeito\":\n",
        "        satisfeitos.append(nome)\n",
        "    elif opiniao == \"insatisfeito\":\n",
        "        insatisfeitos.append(nome)\n",
        "\n",
        "print(\"\\nParticipantes satisfeitos:\")\n",
        "for nome in satisfeitos:\n",
        "    print(nome)\n",
        "\n",
        "print(\"\\nParticipantes insatisfeitos:\")\n",
        "for nome in insatisfeitos:\n",
        "    print(nome)\n",
        "\n",
        "print(f\"\\nTotal de satisfeitos: {len(satisfeitos)}\")\n",
        "print(f\"Total de insatisfeitos: {len(insatisfeitos)}\")"
      ],
      "metadata": {
        "id": "34JqxL0B7Tvj"
      },
      "execution_count": null,
      "outputs": []
    }
  ]
}